{
 "cells": [
  {
   "cell_type": "code",
   "execution_count": 138,
   "id": "153379cf",
   "metadata": {},
   "outputs": [
    {
     "data": {
      "text/plain": [
       "0.68334"
      ]
     },
     "execution_count": 138,
     "metadata": {},
     "output_type": "execute_result"
    }
   ],
   "source": [
    "# Determine The law of large numbers\n",
    "# The law of large numbers, in probability and statistics, states that as a sample size grows, its mean gets closer to the average of the whole population. \n",
    "# This is due to the sample being more representative of the population as the sample become larger.\n",
    "\n",
    "# Test the Law Of Large Numbers for N random normally distributed numbers with mean = 0, stdev = 1:\n",
    "# Create a Python script that will count how many of these number s fall between -1 and 1 and divide\n",
    "# You know that E(X) = 68.2% (from Normal Distribution)\n",
    "# Check that Mean(XN) -> E(X) as you rer un your scr ipt while increasing N\n",
    "\n",
    "\n",
    "import numpy as np\n",
    "from numpy.random import randn\n",
    "\n",
    "N = 100000\n",
    "counter = 0\n",
    "for i in randn(N):\n",
    "    if (i > -1 and i < 1):\n",
    "        counter = counter + 1\n",
    "counter/N"
   ]
  },
  {
   "cell_type": "code",
   "execution_count": null,
   "id": "7162b458",
   "metadata": {},
   "outputs": [],
   "source": []
  }
 ],
 "metadata": {
  "kernelspec": {
   "display_name": "Python 3 (ipykernel)",
   "language": "python",
   "name": "python3"
  },
  "language_info": {
   "codemirror_mode": {
    "name": "ipython",
    "version": 3
   },
   "file_extension": ".py",
   "mimetype": "text/x-python",
   "name": "python",
   "nbconvert_exporter": "python",
   "pygments_lexer": "ipython3",
   "version": "3.9.12"
  }
 },
 "nbformat": 4,
 "nbformat_minor": 5
}
